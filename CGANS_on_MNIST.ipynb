{
 "cells": [
  {
   "cell_type": "code",
   "execution_count": 5,
   "metadata": {},
   "outputs": [],
   "source": [
    "import os\n",
    "import pandas as pd\n",
    "from PIL import Image\n",
    "import torch.nn as nn\n",
    "import torch\n",
    "from torch.autograd import Variable\n",
    "import numpy as np\n",
    "import pandas as pd\n",
    "from torchvision import transforms\n",
    "from torch.utils.data import Dataset, DataLoader\n",
    "from PIL import Image\n",
    "from torch import autograd\n",
    "from torch.autograd import Variable\n",
    "from torchvision.utils import make_grid\n",
    "import matplotlib.pyplot as plt\n",
    "from torchvision import transforms, datasets\n",
    "from torch import optim as optim"
   ]
  },
  {
   "cell_type": "code",
   "execution_count": 6,
   "metadata": {},
   "outputs": [],
   "source": [
    "device = torch.device(\"cuda\" if torch.cuda.is_available() else \"cpu\")"
   ]
  },
  {
   "cell_type": "code",
   "execution_count": 7,
   "metadata": {},
   "outputs": [],
   "source": [
    "training_parameters = {\n",
    "    \"n_epochs\": 30,\n",
    "    \"batch_size\": 12,\n",
    "}\n"
   ]
  },
  {
   "cell_type": "code",
   "execution_count": 8,
   "metadata": {},
   "outputs": [
    {
     "name": "stdout",
     "output_type": "stream",
     "text": [
      "Downloading http://yann.lecun.com/exdb/mnist/train-images-idx3-ubyte.gz\n",
      "Downloading http://yann.lecun.com/exdb/mnist/train-labels-idx1-ubyte.gz\n",
      "Downloading http://yann.lecun.com/exdb/mnist/t10k-images-idx3-ubyte.gz\n",
      "Downloading http://yann.lecun.com/exdb/mnist/t10k-labels-idx1-ubyte.gz\n",
      "Processing...\n",
      "Done!\n"
     ]
    }
   ],
   "source": [
    "data_loader = torch.utils.data.DataLoader(\n",
    "  \n",
    "  datasets.MNIST('./', train=True, download=True,\n",
    "                             transform=transforms.Compose([\n",
    "                               transforms.ToTensor(),\n",
    "                               transforms.Normalize(\n",
    "                                 (0.5,), (0.5,))\n",
    "                             ])),\n",
    "  batch_size=training_parameters[\"batch_size\"], shuffle=True)"
   ]
  },
  {
   "cell_type": "code",
   "execution_count": 9,
   "metadata": {},
   "outputs": [],
   "source": [
    "class GeneratorModel(nn.Module):\n",
    "    def __init__(self):\n",
    "        super(GeneratorModel, self).__init__()\n",
    "        input_dim = 100 + 10\n",
    "        output_dim = 784\n",
    "        self.label_embedding = nn.Embedding(10, 10)\n",
    "        \n",
    "        self.hidden_layer1 = nn.Sequential(\n",
    "            nn.Linear(input_dim, 256),\n",
    "            nn.LeakyReLU(0.2)\n",
    "        )\n",
    "\n",
    "        self.hidden_layer2 = nn.Sequential(\n",
    "            nn.Linear(256, 512),\n",
    "            nn.LeakyReLU(0.2)\n",
    "        )\n",
    "\n",
    "        self.hidden_layer3 = nn.Sequential(\n",
    "            nn.Linear(512, 1024),\n",
    "            nn.LeakyReLU(0.2)\n",
    "        )\n",
    "\n",
    "        self.hidden_layer4 = nn.Sequential(\n",
    "            nn.Linear(1024, output_dim),\n",
    "            nn.Tanh()\n",
    "        )\n",
    "    \n",
    "    def forward(self, x, labels):\n",
    "        c = self.label_embedding(labels)\n",
    "        x = torch.cat([x,c], 1)\n",
    "        output = self.hidden_layer1(x)\n",
    "        output = self.hidden_layer2(output)\n",
    "        output = self.hidden_layer3(output)\n",
    "        output = self.hidden_layer4(output)\n",
    "        return output.to(device)"
   ]
  },
  {
   "cell_type": "code",
   "execution_count": 10,
   "metadata": {},
   "outputs": [],
   "source": [
    "class DiscriminatorModel(nn.Module):\n",
    "    def __init__(self):\n",
    "        super(DiscriminatorModel, self).__init__()\n",
    "        input_dim = 784 + 10\n",
    "        output_dim = 1\n",
    "        self.label_embedding = nn.Embedding(10, 10)\n",
    "\n",
    "        self.hidden_layer1 = nn.Sequential(\n",
    "            nn.Linear(input_dim, 1024),\n",
    "            nn.LeakyReLU(0.2),\n",
    "            nn.Dropout(0.3)\n",
    "        )\n",
    "\n",
    "        self.hidden_layer2 = nn.Sequential(\n",
    "            nn.Linear(1024, 512),\n",
    "            nn.LeakyReLU(0.2),\n",
    "            nn.Dropout(0.3)\n",
    "        )\n",
    "\n",
    "        self.hidden_layer3 = nn.Sequential(\n",
    "            nn.Linear(512, 256),\n",
    "            nn.LeakyReLU(0.2),\n",
    "            nn.Dropout(0.3)\n",
    "        )\n",
    "\n",
    "        self.hidden_layer4 = nn.Sequential(\n",
    "            nn.Linear(256, output_dim),\n",
    "            nn.Sigmoid()\n",
    "        )\n",
    "\n",
    "    def forward(self, x, labels):\n",
    "        c = self.label_embedding(labels)\n",
    "        x = torch.cat([x, c], 1)\n",
    "        output = self.hidden_layer1(x)\n",
    "        output = self.hidden_layer2(output)\n",
    "        output = self.hidden_layer3(output)\n",
    "        output = self.hidden_layer4(output)\n",
    "\n",
    "        return output.to(device)\n"
   ]
  },
  {
   "cell_type": "code",
   "execution_count": 11,
   "metadata": {},
   "outputs": [
    {
     "data": {
      "text/plain": [
       "GeneratorModel(\n",
       "  (label_embedding): Embedding(10, 10)\n",
       "  (hidden_layer1): Sequential(\n",
       "    (0): Linear(in_features=110, out_features=256, bias=True)\n",
       "    (1): LeakyReLU(negative_slope=0.2)\n",
       "  )\n",
       "  (hidden_layer2): Sequential(\n",
       "    (0): Linear(in_features=256, out_features=512, bias=True)\n",
       "    (1): LeakyReLU(negative_slope=0.2)\n",
       "  )\n",
       "  (hidden_layer3): Sequential(\n",
       "    (0): Linear(in_features=512, out_features=1024, bias=True)\n",
       "    (1): LeakyReLU(negative_slope=0.2)\n",
       "  )\n",
       "  (hidden_layer4): Sequential(\n",
       "    (0): Linear(in_features=1024, out_features=784, bias=True)\n",
       "    (1): Tanh()\n",
       "  )\n",
       ")"
      ]
     },
     "execution_count": 11,
     "metadata": {},
     "output_type": "execute_result"
    }
   ],
   "source": [
    "discriminator = DiscriminatorModel()\n",
    "generator = GeneratorModel()\n",
    "discriminator.to(device)\n",
    "generator.to(device)"
   ]
  },
  {
   "cell_type": "code",
   "execution_count": 12,
   "metadata": {},
   "outputs": [],
   "source": [
    "loss = nn.BCELoss()\n",
    "discriminator_optimizer = optim.Adam(discriminator.parameters(), lr=0.0002)\n",
    "generator_optimizer = optim.Adam(generator.parameters(), lr=0.0002)"
   ]
  },
  {
   "cell_type": "code",
   "execution_count": null,
   "metadata": {},
   "outputs": [
    {
     "name": "stdout",
     "output_type": "stream",
     "text": [
      "[0/30]: loss_d: 0.497, loss_g: 1.680\n",
      "[1/30]: loss_d: 0.478, loss_g: 1.441\n",
      "[2/30]: loss_d: 0.520, loss_g: 1.290\n"
     ]
    }
   ],
   "source": [
    "n_epochs = training_parameters[\"n_epochs\"]\n",
    "batch_size = training_parameters[\"batch_size\"]\n",
    "\n",
    "for epoch_idx in range(n_epochs):\n",
    "    G_loss = []\n",
    "    D_loss = []\n",
    "    for batch_idx, data_input in enumerate(data_loader):\n",
    "        \n",
    "        \n",
    "        noise = torch.randn(batch_size,100).to(device)\n",
    "        fake_labels = torch.randint(0, 10, (batch_size,)).to(device)\n",
    "        generated_data = generator(noise, fake_labels.type(torch.LongTensor)) # batch_size X 784\n",
    "\n",
    "        \n",
    "        # Discriminator\n",
    "        true_data = data_input[0].view(batch_size, 784).to(device) # batch_size X 784\n",
    "        digit_labels = data_input[1].to(device) # batch_size\n",
    "        true_labels = torch.ones(batch_size).to(device)\n",
    "        \n",
    "        discriminator_optimizer.zero_grad()\n",
    "\n",
    "        discriminator_output_for_true_data = discriminator(true_data, digit_labels).view(batch_size)\n",
    "        true_discriminator_loss = loss(discriminator_output_for_true_data, true_labels)\n",
    "\n",
    "        discriminator_output_for_generated_data = discriminator(generated_data.detach(), fake_labels.type(torch.LongTensor)).view(batch_size)\n",
    "        generator_discriminator_loss = loss(\n",
    "            discriminator_output_for_generated_data, torch.zeros(batch_size).to(device)\n",
    "        )\n",
    "        discriminator_loss = (\n",
    "            true_discriminator_loss + generator_discriminator_loss\n",
    "        ) / 2\n",
    "        \n",
    "        discriminator_loss.backward()\n",
    "        discriminator_optimizer.step()\n",
    "\n",
    "        D_loss.append(discriminator_loss.data.item())\n",
    "        \n",
    "        \n",
    "        # Generator\n",
    "\n",
    "        generator_optimizer.zero_grad()\n",
    "        # It's a choice to generate the data again\n",
    "        generated_data = generator(noise, fake_labels.type(torch.LongTensor)) # batch_size X 784\n",
    "        discriminator_output_on_generated_data = discriminator(generated_data, fake_labels.type(torch.LongTensor)).view(batch_size)\n",
    "        generator_loss = loss(discriminator_output_on_generated_data, true_labels)\n",
    "        generator_loss.backward()\n",
    "        generator_optimizer.step()\n",
    "        \n",
    "        G_loss.append(generator_loss.data.item())\n",
    "        if ((batch_idx + 1)% 500 == 0 and (epoch_idx + 1)%10 == 0):\n",
    "            print(\"Training Steps Completed: \", batch_idx)\n",
    "            \n",
    "            with torch.no_grad():\n",
    "                noise = torch.randn(batch_size,100).to(device)\n",
    "                fake_labels = torch.randint(0, 10, (batch_size,)).to(device)\n",
    "                generated_data = generator(noise, fake_labels).cpu().view(batch_size, 28, 28)\n",
    "                for x in generated_data:\n",
    "                    print(fake_labels[0].item())\n",
    "                    plt.imshow(x.detach().numpy(), interpolation='nearest',cmap='gray')\n",
    "                    plt.show()\n",
    "\n",
    "                    break\n",
    "\n",
    "\n",
    "    print('[%d/%d]: loss_d: %.3f, loss_g: %.3f' % (\n",
    "            (epoch_idx), n_epochs, torch.mean(torch.FloatTensor(D_loss)), torch.mean(torch.FloatTensor(G_loss))))"
   ]
  },
  {
   "cell_type": "code",
   "execution_count": null,
   "metadata": {},
   "outputs": [],
   "source": []
  }
 ],
 "metadata": {
  "kernelspec": {
   "display_name": "Python 3",
   "language": "python",
   "name": "python3"
  },
  "language_info": {
   "codemirror_mode": {
    "name": "ipython",
    "version": 3
   },
   "file_extension": ".py",
   "mimetype": "text/x-python",
   "name": "python",
   "nbconvert_exporter": "python",
   "pygments_lexer": "ipython3",
   "version": "3.7.1"
  }
 },
 "nbformat": 4,
 "nbformat_minor": 4
}
